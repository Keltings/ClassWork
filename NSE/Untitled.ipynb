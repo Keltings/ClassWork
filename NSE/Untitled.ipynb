{
 "cells": [
  {
   "cell_type": "code",
   "execution_count": 20,
   "id": "0f7a211b",
   "metadata": {},
   "outputs": [],
   "source": [
    "import pandas as pd\n",
    "import numpy as np\n",
    "import matplotlib.pyplot as plt\n",
    "import seaborn as sns\n",
    "from sklearn.ensemble import RandomForestRegressor, RandomForestClassifier\n"
   ]
  },
  {
   "cell_type": "code",
   "execution_count": 21,
   "id": "d6838386",
   "metadata": {},
   "outputs": [],
   "source": [
    "import os\n",
    "\n",
    "# Set the working directory\n",
    "os.chdir(\"C:/Users/KELIDA/Documents/MASTERS/Module2/PDS/73rb78pmzw-2\")\n"
   ]
  },
  {
   "cell_type": "code",
   "execution_count": 22,
   "id": "f7fabf2a",
   "metadata": {},
   "outputs": [
    {
     "name": "stdout",
     "output_type": "stream",
     "text": [
      "          SECTOR     CODE                             NAME\n",
      "0   Agricultural     EGAD                      Eaagads Ltd\n",
      "1   Agricultural     KUKZ                       Kakuzi Plc\n",
      "2   Agricultural     KAPC          Kapchorua Tea Kenya Plc\n",
      "3   Agricultural     LIMT                   Limuru Tea Plc\n",
      "4   Agricultural     SASN                       Sasini Plc\n",
      "..           ...      ...                              ...\n",
      "68       Indices    ^NASI              NSE All-Share Index\n",
      "69       Indices  ^ZKEQTK  Zamara Kenya Equity Index (KES)\n",
      "70       Indices  ^ZKEQTU  Zamara Kenya Equity Index (USD)\n",
      "71           NaN      NaN                              NaN\n",
      "72           NaN      NaN                              NaN\n",
      "\n",
      "[73 rows x 3 columns]\n"
     ]
    }
   ],
   "source": [
    "# Read the CSV file into a DataFrame\n",
    "nsesectors = pd.read_csv('NSE_data_stock_market_sectors_2020.csv')\n",
    "\n",
    "# Display the DataFrame\n",
    "print(nsesectors)\n"
   ]
  },
  {
   "cell_type": "code",
   "execution_count": 23,
   "id": "f44de1aa",
   "metadata": {},
   "outputs": [
    {
     "name": "stdout",
     "output_type": "stream",
     "text": [
      "['C:/Users/KELIDA/Documents/MASTERS/Module2/PDS/73rb78pmzw-2\\\\nsefilesv2.csv', 'C:/Users/KELIDA/Documents/MASTERS/Module2/PDS/73rb78pmzw-2\\\\nsefilesv4.csv', 'C:/Users/KELIDA/Documents/MASTERS/Module2/PDS/73rb78pmzw-2\\\\NSE_data_all_stocks_2013.csv', 'C:/Users/KELIDA/Documents/MASTERS/Module2/PDS/73rb78pmzw-2\\\\NSE_data_all_stocks_2014.csv', 'C:/Users/KELIDA/Documents/MASTERS/Module2/PDS/73rb78pmzw-2\\\\NSE_data_all_stocks_2015.csv', 'C:/Users/KELIDA/Documents/MASTERS/Module2/PDS/73rb78pmzw-2\\\\NSE_data_all_stocks_2016.csv', 'C:/Users/KELIDA/Documents/MASTERS/Module2/PDS/73rb78pmzw-2\\\\NSE_data_all_stocks_2017.csv', 'C:/Users/KELIDA/Documents/MASTERS/Module2/PDS/73rb78pmzw-2\\\\NSE_data_all_stocks_2018.csv', 'C:/Users/KELIDA/Documents/MASTERS/Module2/PDS/73rb78pmzw-2\\\\NSE_data_all_stocks_2019.csv', 'C:/Users/KELIDA/Documents/MASTERS/Module2/PDS/73rb78pmzw-2\\\\NSE_data_all_stocks_2020.csv', 'C:/Users/KELIDA/Documents/MASTERS/Module2/PDS/73rb78pmzw-2\\\\NSE_data_stock_market_sectors_2013.csv', 'C:/Users/KELIDA/Documents/MASTERS/Module2/PDS/73rb78pmzw-2\\\\NSE_data_stock_market_sectors_2020.csv']\n"
     ]
    }
   ],
   "source": [
    "# Folder path\n",
    "NSEfolder = 'C:/Users/KELIDA/Documents/MASTERS/Module2/PDS/73rb78pmzw-2'\n",
    "# List all CSV files in the folder\n",
    "nsefiles = [os.path.join(NSEfolder, file) for file in os.listdir(NSEfolder) if file.endswith('.csv')]\n",
    "\n",
    "# Display the list of file paths\n",
    "print(nsefiles)\n"
   ]
  },
  {
   "cell_type": "code",
   "execution_count": 24,
   "id": "f3206d4e",
   "metadata": {},
   "outputs": [
    {
     "name": "stderr",
     "output_type": "stream",
     "text": [
      "C:\\Users\\KELIDA\\AppData\\Local\\Temp\\ipykernel_12472\\26222260.py:2: DtypeWarning: Columns (3,4,5,6,7,8,13) have mixed types. Specify dtype option on import or set low_memory=False.\n",
      "  dfs = [pd.read_csv(file) for file in nsefiles]\n",
      "C:\\Users\\KELIDA\\AppData\\Local\\Temp\\ipykernel_12472\\26222260.py:2: DtypeWarning: Columns (3,4,5,6,7,8) have mixed types. Specify dtype option on import or set low_memory=False.\n",
      "  dfs = [pd.read_csv(file) for file in nsefiles]\n"
     ]
    },
    {
     "name": "stdout",
     "output_type": "stream",
     "text": [
      "            DATE     CODE                             NAME 12m Low 12m High  \\\n",
      "0       2-Jan-13     EGAD                      Eaagads Ltd     8.2       14   \n",
      "1       2-Jan-13     KUKZ                       Kakuzi Plc     300    423.5   \n",
      "2       2-Jan-13     KAPC          Kapchorua Tea Kenya Plc      59       95   \n",
      "3       2-Jan-13     LIMT                   Limuru Tea Plc     385      475   \n",
      "4       2-Jan-13     SASN                       Sasini Plc    14.8     19.6   \n",
      "...          ...      ...                              ...     ...      ...   \n",
      "403738       NaN    ^NASI              NSE All-Share Index     NaN      NaN   \n",
      "403739       NaN  ^ZKEQTK  Zamara Kenya Equity Index (KES)     NaN      NaN   \n",
      "403740       NaN  ^ZKEQTU  Zamara Kenya Equity Index (USD)     NaN      NaN   \n",
      "403741       NaN      NaN                              NaN     NaN      NaN   \n",
      "403742       NaN      NaN                              NaN     NaN      NaN   \n",
      "\n",
      "       Day Low Day High Day Price Previous Change Change%  Volume Adjust  \\\n",
      "0           25       25        25       25      -       -       -      -   \n",
      "1         67.5     67.5      67.5       72   -4.5   6.25%     300      -   \n",
      "2          118      118       118      118      -       -       -     59   \n",
      "3          430      430       430      430      -       -       -    215   \n",
      "4         11.7    12.05      11.9     11.7    0.2   1.71%  14,500      -   \n",
      "...        ...      ...       ...      ...    ...     ...     ...    ...   \n",
      "403738     NaN      NaN       NaN      NaN    NaN     NaN     NaN    NaN   \n",
      "403739     NaN      NaN       NaN      NaN    NaN     NaN     NaN    NaN   \n",
      "403740     NaN      NaN       NaN      NaN    NaN     NaN     NaN    NaN   \n",
      "403741     NaN      NaN       NaN      NaN    NaN     NaN     NaN    NaN   \n",
      "403742     NaN      NaN       NaN      NaN    NaN     NaN     NaN    NaN   \n",
      "\n",
      "         SECTOR NAME_x SECTOR_x Date2 Date3 SECTOR_y NAME_y  \n",
      "0           NaN    NaN      NaN   NaN   NaN      NaN    NaN  \n",
      "1           NaN    NaN      NaN   NaN   NaN      NaN    NaN  \n",
      "2           NaN    NaN      NaN   NaN   NaN      NaN    NaN  \n",
      "3           NaN    NaN      NaN   NaN   NaN      NaN    NaN  \n",
      "4           NaN    NaN      NaN   NaN   NaN      NaN    NaN  \n",
      "...         ...    ...      ...   ...   ...      ...    ...  \n",
      "403738  Indices    NaN      NaN   NaN   NaN      NaN    NaN  \n",
      "403739  Indices    NaN      NaN   NaN   NaN      NaN    NaN  \n",
      "403740  Indices    NaN      NaN   NaN   NaN      NaN    NaN  \n",
      "403741      NaN    NaN      NaN   NaN   NaN      NaN    NaN  \n",
      "403742      NaN    NaN      NaN   NaN   NaN      NaN    NaN  \n",
      "\n",
      "[403743 rows x 20 columns]\n"
     ]
    }
   ],
   "source": [
    "# Read all CSV files into a list of DataFrames\n",
    "dfs = [pd.read_csv(file) for file in nsefiles]\n",
    "\n",
    "# Concatenate all DataFrames into a single DataFrame\n",
    "nsefilesv2 = pd.concat(dfs, ignore_index=True)\n",
    "\n",
    "# Display the concatenated DataFrame\n",
    "print(nsefilesv2)\n",
    "\n",
    "# Write the concatenated DataFrame to a CSV file\n",
    "nsefilesv2.to_csv(\"nsefilesv2.csv\", index=False)"
   ]
  },
  {
   "cell_type": "code",
   "execution_count": 25,
   "id": "4c2ef383",
   "metadata": {},
   "outputs": [
    {
     "name": "stdout",
     "output_type": "stream",
     "text": [
      "            DATE     CODE                             NAME 12m Low 12m High  \\\n",
      "0       2-Jan-13     EGAD                      Eaagads Ltd     8.2       14   \n",
      "1       2-Jan-13     KUKZ                       Kakuzi Plc     300    423.5   \n",
      "2       2-Jan-13     KAPC          Kapchorua Tea Kenya Plc      59       95   \n",
      "3       2-Jan-13     LIMT                   Limuru Tea Plc     385      475   \n",
      "4       2-Jan-13     SASN                       Sasini Plc    14.8     19.6   \n",
      "...          ...      ...                              ...     ...      ...   \n",
      "403738       NaN    ^NASI              NSE All-Share Index     NaN      NaN   \n",
      "403739       NaN  ^ZKEQTK  Zamara Kenya Equity Index (KES)     NaN      NaN   \n",
      "403740       NaN  ^ZKEQTU  Zamara Kenya Equity Index (USD)     NaN      NaN   \n",
      "403741       NaN      NaN                              NaN     NaN      NaN   \n",
      "403742       NaN      NaN                              NaN     NaN      NaN   \n",
      "\n",
      "       Day Low Day High Day Price Previous Change Change%  Volume Adjust  \\\n",
      "0           25       25        25       25      -       -       -      -   \n",
      "1         67.5     67.5      67.5       72   -4.5   6.25%     300      -   \n",
      "2          118      118       118      118      -       -       -     59   \n",
      "3          430      430       430      430      -       -       -    215   \n",
      "4         11.7    12.05      11.9     11.7    0.2   1.71%  14,500      -   \n",
      "...        ...      ...       ...      ...    ...     ...     ...    ...   \n",
      "403738     NaN      NaN       NaN      NaN    NaN     NaN     NaN    NaN   \n",
      "403739     NaN      NaN       NaN      NaN    NaN     NaN     NaN    NaN   \n",
      "403740     NaN      NaN       NaN      NaN    NaN     NaN     NaN    NaN   \n",
      "403741     NaN      NaN       NaN      NaN    NaN     NaN     NaN    NaN   \n",
      "403742     NaN      NaN       NaN      NaN    NaN     NaN     NaN    NaN   \n",
      "\n",
      "         SECTOR NAME_x SECTOR_x       Date2      Date3 SECTOR_y NAME_y  \n",
      "0           NaN    NaN      NaN  02-01-2013 2013-01-02      NaN    NaN  \n",
      "1           NaN    NaN      NaN  02-01-2013 2013-01-02      NaN    NaN  \n",
      "2           NaN    NaN      NaN  02-01-2013 2013-01-02      NaN    NaN  \n",
      "3           NaN    NaN      NaN  02-01-2013 2013-01-02      NaN    NaN  \n",
      "4           NaN    NaN      NaN  02-01-2013 2013-01-02      NaN    NaN  \n",
      "...         ...    ...      ...         ...        ...      ...    ...  \n",
      "403738  Indices    NaN      NaN         NaN        NaT      NaN    NaN  \n",
      "403739  Indices    NaN      NaN         NaN        NaT      NaN    NaN  \n",
      "403740  Indices    NaN      NaN         NaN        NaT      NaN    NaN  \n",
      "403741      NaN    NaN      NaN         NaN        NaT      NaN    NaN  \n",
      "403742      NaN    NaN      NaN         NaN        NaT      NaN    NaN  \n",
      "\n",
      "[403743 rows x 20 columns]\n"
     ]
    }
   ],
   "source": [
    "# Assuming nsefilesv2 is the DataFrame containing your data\n",
    "\n",
    "# Convert 'DATE' column to datetime format and then format it to \"%d-%m-%Y\"\n",
    "nsefilesv2['Date2'] = pd.to_datetime(nsefilesv2['DATE'], format=\"%d-%b-%y\").dt.strftime('%d-%m-%Y')\n",
    "\n",
    "# If you need to work with the dates as datetime objects, you can directly convert 'Date2' to datetime\n",
    "nsefilesv2['Date3'] = pd.to_datetime(nsefilesv2['Date2'], format=\"%d-%m-%Y\")\n",
    "\n",
    "# Display the DataFrame\n",
    "print(nsefilesv2)"
   ]
  },
  {
   "cell_type": "code",
   "execution_count": 26,
   "id": "5cdbdbd2",
   "metadata": {},
   "outputs": [
    {
     "name": "stderr",
     "output_type": "stream",
     "text": [
      "C:\\Users\\KELIDA\\AppData\\Local\\Temp\\ipykernel_12472\\1542382128.py:4: FutureWarning: Passing 'suffixes' which cause duplicate columns {'NAME_x', 'SECTOR_x'} in the result is deprecated and will raise a MergeError in a future version.\n",
      "  nsefilesv3 = pd.merge(nsefilesv2, nsesectors, on=\"CODE\", how=\"outer\")\n"
     ]
    },
    {
     "name": "stdout",
     "output_type": "stream",
     "text": [
      "             DATE  CODE        NAME_x 12m Low 12m High Day Low Day High  \\\n",
      "0        2-Jan-13  EGAD   Eaagads Ltd     8.2       14      25       25   \n",
      "1        3-Jan-13  EGAD   Eaagads Ltd     8.2       14    22.5       25   \n",
      "2        4-Jan-13  EGAD   Eaagads Ltd     8.2       14      25       25   \n",
      "3        7-Jan-13  EGAD   Eaagads Ltd     8.2       14      24       24   \n",
      "4        8-Jan-13  EGAD   Eaagads Ltd     8.2       14   24.75    24.75   \n",
      "...           ...   ...           ...     ...      ...     ...      ...   \n",
      "403762  28-Dec-20   BKG  BK Group Plc   12.15     22.7    20.8     20.8   \n",
      "403763  29-Dec-20   BKG  BK Group Plc   12.15     22.7    20.9     20.9   \n",
      "403764  30-Dec-20   BKG  BK Group Plc   12.15       28    20.5     20.5   \n",
      "403765  31-Dec-20   BKG  BK Group Plc   12.15       28    20.5     20.5   \n",
      "403766        NaN   BKG  BK Group Plc     NaN      NaN     NaN      NaN   \n",
      "\n",
      "       Day Price Previous Change  ... Adjust SECTOR_x NAME_x SECTOR_x  \\\n",
      "0             25       25      -  ...      -      NaN    NaN      NaN   \n",
      "1             24       25     -1  ...      -      NaN    NaN      NaN   \n",
      "2             25       24      1  ...      -      NaN    NaN      NaN   \n",
      "3             24       25     -1  ...      -      NaN    NaN      NaN   \n",
      "4          24.75       24   0.75  ...      -      NaN    NaN      NaN   \n",
      "...          ...      ...    ...  ...    ...      ...    ...      ...   \n",
      "403762      20.8     20.8      -  ...      -      NaN    NaN      NaN   \n",
      "403763      20.9     20.8    0.1  ...      -      NaN    NaN      NaN   \n",
      "403764      20.5     20.9   -0.4  ...      -      NaN    NaN      NaN   \n",
      "403765      20.5     20.5      -  ...      -      NaN    NaN      NaN   \n",
      "403766       NaN      NaN    NaN  ...    NaN  Banking    NaN      NaN   \n",
      "\n",
      "             Date2      Date3 SECTOR_y NAME_y      SECTOR_y        NAME_y  \n",
      "0       02-01-2013 2013-01-02      NaN    NaN  Agricultural   Eaagads Ltd  \n",
      "1       03-01-2013 2013-01-03      NaN    NaN  Agricultural   Eaagads Ltd  \n",
      "2       04-01-2013 2013-01-04      NaN    NaN  Agricultural   Eaagads Ltd  \n",
      "3       07-01-2013 2013-01-07      NaN    NaN  Agricultural   Eaagads Ltd  \n",
      "4       08-01-2013 2013-01-08      NaN    NaN  Agricultural   Eaagads Ltd  \n",
      "...            ...        ...      ...    ...           ...           ...  \n",
      "403762  28-12-2020 2020-12-28      NaN    NaN       Banking  BK Group Plc  \n",
      "403763  29-12-2020 2020-12-29      NaN    NaN       Banking  BK Group Plc  \n",
      "403764  30-12-2020 2020-12-30      NaN    NaN       Banking  BK Group Plc  \n",
      "403765  31-12-2020 2020-12-31      NaN    NaN       Banking  BK Group Plc  \n",
      "403766         NaN        NaT      NaN    NaN       Banking  BK Group Plc  \n",
      "\n",
      "[403767 rows x 22 columns]\n"
     ]
    }
   ],
   "source": [
    "# Assuming nsefilesv2 and nsesectors are the DataFrames containing your data\n",
    "\n",
    "# Perform the merge operation\n",
    "nsefilesv3 = pd.merge(nsefilesv2, nsesectors, on=\"CODE\", how=\"outer\")\n",
    "\n",
    "# Display the merged DataFrame\n",
    "print(nsefilesv3)"
   ]
  },
  {
   "cell_type": "code",
   "execution_count": 27,
   "id": "aa44a7ca",
   "metadata": {},
   "outputs": [
    {
     "name": "stdout",
     "output_type": "stream",
     "text": [
      "             DATE  CODE        NAME_x 12m Low 12m High Day Low Day High  \\\n",
      "0        2-Jan-13  EGAD   Eaagads Ltd     8.2       14      25       25   \n",
      "1        3-Jan-13  EGAD   Eaagads Ltd     8.2       14    22.5       25   \n",
      "2        4-Jan-13  EGAD   Eaagads Ltd     8.2       14      25       25   \n",
      "3        7-Jan-13  EGAD   Eaagads Ltd     8.2       14      24       24   \n",
      "4        8-Jan-13  EGAD   Eaagads Ltd     8.2       14   24.75    24.75   \n",
      "...           ...   ...           ...     ...      ...     ...      ...   \n",
      "403762  28-Dec-20   BKG  BK Group Plc   12.15     22.7    20.8     20.8   \n",
      "403763  29-Dec-20   BKG  BK Group Plc   12.15     22.7    20.9     20.9   \n",
      "403764  30-Dec-20   BKG  BK Group Plc   12.15       28    20.5     20.5   \n",
      "403765  31-Dec-20   BKG  BK Group Plc   12.15       28    20.5     20.5   \n",
      "403766        NaN   BKG  BK Group Plc     NaN      NaN     NaN      NaN   \n",
      "\n",
      "       Day Price Previous Change  ... Adjust SECTOR_x NAME_x SECTOR_x  \\\n",
      "0             25       25      -  ...      -      NaN    NaN      NaN   \n",
      "1             24       25     -1  ...      -      NaN    NaN      NaN   \n",
      "2             25       24      1  ...      -      NaN    NaN      NaN   \n",
      "3             24       25     -1  ...      -      NaN    NaN      NaN   \n",
      "4          24.75       24   0.75  ...      -      NaN    NaN      NaN   \n",
      "...          ...      ...    ...  ...    ...      ...    ...      ...   \n",
      "403762      20.8     20.8      -  ...      -      NaN    NaN      NaN   \n",
      "403763      20.9     20.8    0.1  ...      -      NaN    NaN      NaN   \n",
      "403764      20.5     20.9   -0.4  ...      -      NaN    NaN      NaN   \n",
      "403765      20.5     20.5      -  ...      -      NaN    NaN      NaN   \n",
      "403766       NaN      NaN    NaN  ...    NaN  Banking    NaN      NaN   \n",
      "\n",
      "             Date2      Date3 SECTOR_y NAME_y      SECTOR_y        NAME_y  \n",
      "0       02-01-2013 2013-01-02      NaN    NaN  Agricultural   Eaagads Ltd  \n",
      "1       03-01-2013 2013-01-03      NaN    NaN  Agricultural   Eaagads Ltd  \n",
      "2       04-01-2013 2013-01-04      NaN    NaN  Agricultural   Eaagads Ltd  \n",
      "3       07-01-2013 2013-01-07      NaN    NaN  Agricultural   Eaagads Ltd  \n",
      "4       08-01-2013 2013-01-08      NaN    NaN  Agricultural   Eaagads Ltd  \n",
      "...            ...        ...      ...    ...           ...           ...  \n",
      "403762  28-12-2020 2020-12-28      NaN    NaN       Banking  BK Group Plc  \n",
      "403763  29-12-2020 2020-12-29      NaN    NaN       Banking  BK Group Plc  \n",
      "403764  30-12-2020 2020-12-30      NaN    NaN       Banking  BK Group Plc  \n",
      "403765  31-12-2020 2020-12-31      NaN    NaN       Banking  BK Group Plc  \n",
      "403766         NaN        NaT      NaN    NaN       Banking  BK Group Plc  \n",
      "\n",
      "[403767 rows x 22 columns]\n"
     ]
    }
   ],
   "source": [
    "# Remove rows with null values\n",
    "nsefilesv3.dropna()\n",
    "\n",
    "# Display the DataFrame without null values\n",
    "print(nsefilesv3)"
   ]
  },
  {
   "cell_type": "code",
   "execution_count": 28,
   "id": "5f81db1c",
   "metadata": {},
   "outputs": [],
   "source": [
    "# Write DataFrame to a CSV file\n",
    "nsefilesv3.to_csv(\"nsefilesv4.csv\", index=False)\n",
    "\n",
    "# Clean up column names if necessary\n",
    "nsefilesv3.columns = nsefilesv3.columns.str.replace(\" \", \"_\")"
   ]
  },
  {
   "cell_type": "code",
   "execution_count": 29,
   "id": "04181d77",
   "metadata": {},
   "outputs": [
    {
     "name": "stdout",
     "output_type": "stream",
     "text": [
      "            DATE  CODE      NAME_x 12m_Low 12m_High Day_Low Day_High  \\\n",
      "5985    2-Jan-13  KUKZ  Kakuzi Plc     300    423.5    67.5     67.5   \n",
      "5986    3-Jan-13  KUKZ  Kakuzi Plc     300    423.5    67.5     67.5   \n",
      "5987    4-Jan-13  KUKZ  Kakuzi Plc     300    423.5    67.5     67.5   \n",
      "5988    7-Jan-13  KUKZ  Kakuzi Plc     300    423.5      70       70   \n",
      "5989    8-Jan-13  KUKZ  Kakuzi Plc     300    423.5      72       72   \n",
      "...          ...   ...         ...     ...      ...     ...      ...   \n",
      "11965  29-Dec-20  KUKZ  Kakuzi Plc     300      397     365      365   \n",
      "11966  30-Dec-20  KUKZ  Kakuzi Plc     300      397     365      365   \n",
      "11967  31-Dec-20  KUKZ  Kakuzi Plc     300      397     365      365   \n",
      "11968        NaN  KUKZ  Kakuzi Plc     NaN      NaN     NaN      NaN   \n",
      "11969        NaN  KUKZ  Kakuzi Plc     NaN      NaN     NaN      NaN   \n",
      "\n",
      "      Day_Price Previous Change  ... Adjust      SECTOR_x NAME_x SECTOR_x  \\\n",
      "5985       67.5       72   -4.5  ...      -           NaN    NaN      NaN   \n",
      "5986       67.5     67.5      -  ...      -           NaN    NaN      NaN   \n",
      "5987       67.5     67.5      -  ...      -           NaN    NaN      NaN   \n",
      "5988         70     67.5    2.5  ...      -           NaN    NaN      NaN   \n",
      "5989         72       70      2  ...      -           NaN    NaN      NaN   \n",
      "...         ...      ...    ...  ...    ...           ...    ...      ...   \n",
      "11965       365      365      -  ...      -           NaN    NaN      NaN   \n",
      "11966       365      365      -  ...      -           NaN    NaN      NaN   \n",
      "11967       365      365      -  ...      -           NaN    NaN      NaN   \n",
      "11968       NaN      NaN    NaN  ...    NaN  Agricultural    NaN      NaN   \n",
      "11969       NaN      NaN    NaN  ...    NaN  Agricultural    NaN      NaN   \n",
      "\n",
      "            Date2      Date3 SECTOR_y NAME_y      SECTOR_y      NAME_y  \n",
      "5985   02-01-2013 2013-01-02      NaN    NaN  Agricultural  Kakuzi Plc  \n",
      "5986   03-01-2013 2013-01-03      NaN    NaN  Agricultural  Kakuzi Plc  \n",
      "5987   04-01-2013 2013-01-04      NaN    NaN  Agricultural  Kakuzi Plc  \n",
      "5988   07-01-2013 2013-01-07      NaN    NaN  Agricultural  Kakuzi Plc  \n",
      "5989   08-01-2013 2013-01-08      NaN    NaN  Agricultural  Kakuzi Plc  \n",
      "...           ...        ...      ...    ...           ...         ...  \n",
      "11965  29-12-2020 2020-12-29      NaN    NaN  Agricultural  Kakuzi Plc  \n",
      "11966  30-12-2020 2020-12-30      NaN    NaN  Agricultural  Kakuzi Plc  \n",
      "11967  31-12-2020 2020-12-31      NaN    NaN  Agricultural  Kakuzi Plc  \n",
      "11968         NaN        NaT      NaN    NaN  Agricultural  Kakuzi Plc  \n",
      "11969         NaN        NaT      NaN    NaN  Agricultural  Kakuzi Plc  \n",
      "\n",
      "[5985 rows x 22 columns]\n",
      "            DATE  CODE      NAME_x 12m_Low 12m_High Day_Low Day_High  \\\n",
      "7476   02-Jan-19  KUKZ  Kakuzi Plc     300    423.5     310      310   \n",
      "7477   03-Jan-19  KUKZ  Kakuzi Plc     300    423.5     310      310   \n",
      "7478   04-Jan-19  KUKZ  Kakuzi Plc     300    423.5     310      310   \n",
      "7479   07-Jan-19  KUKZ  Kakuzi Plc     300    423.5     310      310   \n",
      "7480   08-Jan-19  KUKZ  Kakuzi Plc     300    423.5     310      310   \n",
      "...          ...   ...         ...     ...      ...     ...      ...   \n",
      "11963  24-Dec-20  KUKZ  Kakuzi Plc     300      397     370      370   \n",
      "11964  28-Dec-20  KUKZ  Kakuzi Plc     300      397     365      365   \n",
      "11965  29-Dec-20  KUKZ  Kakuzi Plc     300      397     365      365   \n",
      "11966  30-Dec-20  KUKZ  Kakuzi Plc     300      397     365      365   \n",
      "11967  31-Dec-20  KUKZ  Kakuzi Plc     300      397     365      365   \n",
      "\n",
      "      Day_Price Previous Change  ... Adjust SECTOR_x NAME_x SECTOR_x  \\\n",
      "7476        310      310      -  ...      -      NaN    NaN      NaN   \n",
      "7477        310      310      -  ...      -      NaN    NaN      NaN   \n",
      "7478        310      310      -  ...      -      NaN    NaN      NaN   \n",
      "7479        310      310      -  ...      -      NaN    NaN      NaN   \n",
      "7480        310      310      -  ...      -      NaN    NaN      NaN   \n",
      "...         ...      ...    ...  ...    ...      ...    ...      ...   \n",
      "11963       370      370      -  ...      -      NaN    NaN      NaN   \n",
      "11964       365      370     -5  ...      -      NaN    NaN      NaN   \n",
      "11965       365      365      -  ...      -      NaN    NaN      NaN   \n",
      "11966       365      365      -  ...      -      NaN    NaN      NaN   \n",
      "11967       365      365      -  ...      -      NaN    NaN      NaN   \n",
      "\n",
      "            Date2      Date3 SECTOR_y NAME_y      SECTOR_y      NAME_y  \n",
      "7476   02-01-2019 2019-01-02      NaN    NaN  Agricultural  Kakuzi Plc  \n",
      "7477   03-01-2019 2019-01-03      NaN    NaN  Agricultural  Kakuzi Plc  \n",
      "7478   04-01-2019 2019-01-04      NaN    NaN  Agricultural  Kakuzi Plc  \n",
      "7479   07-01-2019 2019-01-07      NaN    NaN  Agricultural  Kakuzi Plc  \n",
      "7480   08-01-2019 2019-01-08      NaN    NaN  Agricultural  Kakuzi Plc  \n",
      "...           ...        ...      ...    ...           ...         ...  \n",
      "11963  24-12-2020 2020-12-24      NaN    NaN  Agricultural  Kakuzi Plc  \n",
      "11964  28-12-2020 2020-12-28      NaN    NaN  Agricultural  Kakuzi Plc  \n",
      "11965  29-12-2020 2020-12-29      NaN    NaN  Agricultural  Kakuzi Plc  \n",
      "11966  30-12-2020 2020-12-30      NaN    NaN  Agricultural  Kakuzi Plc  \n",
      "11967  31-12-2020 2020-12-31      NaN    NaN  Agricultural  Kakuzi Plc  \n",
      "\n",
      "[1506 rows x 22 columns]\n"
     ]
    }
   ],
   "source": [
    "# Subset to include only the company(s) of interest e.g. Kakuzi\n",
    "nsefilesv5 = nsefilesv3[nsefilesv3['CODE'] == 'KUKZ']\n",
    "\n",
    "# View the subset DataFrame\n",
    "print(nsefilesv5)\n",
    "\n",
    "# Subset to include only relevant dates\n",
    "nsefilesv6 = nsefilesv5[nsefilesv5['Date3'] >= '2019-01-01']\n",
    "\n",
    "# View the subset DataFrame\n",
    "print(nsefilesv6)"
   ]
  },
  {
   "cell_type": "code",
   "execution_count": 30,
   "id": "56a9b24b",
   "metadata": {},
   "outputs": [
    {
     "name": "stderr",
     "output_type": "stream",
     "text": [
      "C:\\Users\\KELIDA\\AppData\\Local\\Temp\\ipykernel_12472\\1870819673.py:2: SettingWithCopyWarning: \n",
      "A value is trying to be set on a copy of a slice from a DataFrame.\n",
      "Try using .loc[row_indexer,col_indexer] = value instead\n",
      "\n",
      "See the caveats in the documentation: https://pandas.pydata.org/pandas-docs/stable/user_guide/indexing.html#returning-a-view-versus-a-copy\n",
      "  nsefilesv6['month'] = nsefilesv6['Date3'].dt.strftime('%m')\n",
      "C:\\Users\\KELIDA\\AppData\\Local\\Temp\\ipykernel_12472\\1870819673.py:3: SettingWithCopyWarning: \n",
      "A value is trying to be set on a copy of a slice from a DataFrame.\n",
      "Try using .loc[row_indexer,col_indexer] = value instead\n",
      "\n",
      "See the caveats in the documentation: https://pandas.pydata.org/pandas-docs/stable/user_guide/indexing.html#returning-a-view-versus-a-copy\n",
      "  nsefilesv6['year'] = nsefilesv6['Date3'].dt.strftime('%Y')\n",
      "C:\\Users\\KELIDA\\AppData\\Local\\Temp\\ipykernel_12472\\1870819673.py:4: SettingWithCopyWarning: \n",
      "A value is trying to be set on a copy of a slice from a DataFrame.\n",
      "Try using .loc[row_indexer,col_indexer] = value instead\n",
      "\n",
      "See the caveats in the documentation: https://pandas.pydata.org/pandas-docs/stable/user_guide/indexing.html#returning-a-view-versus-a-copy\n",
      "  nsefilesv6['monthyear'] = nsefilesv6['year'] + '-' + nsefilesv6['month']\n"
     ]
    },
    {
     "ename": "TypeError",
     "evalue": "'value' must be an instance of str or bytes, not a float",
     "output_type": "error",
     "traceback": [
      "\u001b[1;31m---------------------------------------------------------------------------\u001b[0m",
      "\u001b[1;31mTypeError\u001b[0m                                 Traceback (most recent call last)",
      "Cell \u001b[1;32mIn[30], line 7\u001b[0m\n\u001b[0;32m      4\u001b[0m nsefilesv6[\u001b[38;5;124m'\u001b[39m\u001b[38;5;124mmonthyear\u001b[39m\u001b[38;5;124m'\u001b[39m] \u001b[38;5;241m=\u001b[39m nsefilesv6[\u001b[38;5;124m'\u001b[39m\u001b[38;5;124myear\u001b[39m\u001b[38;5;124m'\u001b[39m] \u001b[38;5;241m+\u001b[39m \u001b[38;5;124m'\u001b[39m\u001b[38;5;124m-\u001b[39m\u001b[38;5;124m'\u001b[39m \u001b[38;5;241m+\u001b[39m nsefilesv6[\u001b[38;5;124m'\u001b[39m\u001b[38;5;124mmonth\u001b[39m\u001b[38;5;124m'\u001b[39m]\n\u001b[0;32m      6\u001b[0m \u001b[38;5;66;03m# Plotting using matplotlib\u001b[39;00m\n\u001b[1;32m----> 7\u001b[0m plt\u001b[38;5;241m.\u001b[39mhist(nsefilesv6[\u001b[38;5;124m'\u001b[39m\u001b[38;5;124mPrevious\u001b[39m\u001b[38;5;124m'\u001b[39m], bins\u001b[38;5;241m=\u001b[39m\u001b[38;5;241m20\u001b[39m, edgecolor\u001b[38;5;241m=\u001b[39m\u001b[38;5;124m'\u001b[39m\u001b[38;5;124mblack\u001b[39m\u001b[38;5;124m'\u001b[39m)\n\u001b[0;32m      8\u001b[0m plt\u001b[38;5;241m.\u001b[39mxlabel(\u001b[38;5;124m'\u001b[39m\u001b[38;5;124mPrevious\u001b[39m\u001b[38;5;124m'\u001b[39m)\n\u001b[0;32m      9\u001b[0m plt\u001b[38;5;241m.\u001b[39mylabel(\u001b[38;5;124m'\u001b[39m\u001b[38;5;124mFrequency\u001b[39m\u001b[38;5;124m'\u001b[39m)\n",
      "File \u001b[1;32m~\\anaconda3\\Lib\\site-packages\\matplotlib\\pyplot.py:2645\u001b[0m, in \u001b[0;36mhist\u001b[1;34m(x, bins, range, density, weights, cumulative, bottom, histtype, align, orientation, rwidth, log, color, label, stacked, data, **kwargs)\u001b[0m\n\u001b[0;32m   2639\u001b[0m \u001b[38;5;129m@_copy_docstring_and_deprecators\u001b[39m(Axes\u001b[38;5;241m.\u001b[39mhist)\n\u001b[0;32m   2640\u001b[0m \u001b[38;5;28;01mdef\u001b[39;00m \u001b[38;5;21mhist\u001b[39m(\n\u001b[0;32m   2641\u001b[0m         x, bins\u001b[38;5;241m=\u001b[39m\u001b[38;5;28;01mNone\u001b[39;00m, \u001b[38;5;28mrange\u001b[39m\u001b[38;5;241m=\u001b[39m\u001b[38;5;28;01mNone\u001b[39;00m, density\u001b[38;5;241m=\u001b[39m\u001b[38;5;28;01mFalse\u001b[39;00m, weights\u001b[38;5;241m=\u001b[39m\u001b[38;5;28;01mNone\u001b[39;00m,\n\u001b[0;32m   2642\u001b[0m         cumulative\u001b[38;5;241m=\u001b[39m\u001b[38;5;28;01mFalse\u001b[39;00m, bottom\u001b[38;5;241m=\u001b[39m\u001b[38;5;28;01mNone\u001b[39;00m, histtype\u001b[38;5;241m=\u001b[39m\u001b[38;5;124m'\u001b[39m\u001b[38;5;124mbar\u001b[39m\u001b[38;5;124m'\u001b[39m, align\u001b[38;5;241m=\u001b[39m\u001b[38;5;124m'\u001b[39m\u001b[38;5;124mmid\u001b[39m\u001b[38;5;124m'\u001b[39m,\n\u001b[0;32m   2643\u001b[0m         orientation\u001b[38;5;241m=\u001b[39m\u001b[38;5;124m'\u001b[39m\u001b[38;5;124mvertical\u001b[39m\u001b[38;5;124m'\u001b[39m, rwidth\u001b[38;5;241m=\u001b[39m\u001b[38;5;28;01mNone\u001b[39;00m, log\u001b[38;5;241m=\u001b[39m\u001b[38;5;28;01mFalse\u001b[39;00m, color\u001b[38;5;241m=\u001b[39m\u001b[38;5;28;01mNone\u001b[39;00m,\n\u001b[0;32m   2644\u001b[0m         label\u001b[38;5;241m=\u001b[39m\u001b[38;5;28;01mNone\u001b[39;00m, stacked\u001b[38;5;241m=\u001b[39m\u001b[38;5;28;01mFalse\u001b[39;00m, \u001b[38;5;241m*\u001b[39m, data\u001b[38;5;241m=\u001b[39m\u001b[38;5;28;01mNone\u001b[39;00m, \u001b[38;5;241m*\u001b[39m\u001b[38;5;241m*\u001b[39mkwargs):\n\u001b[1;32m-> 2645\u001b[0m     \u001b[38;5;28;01mreturn\u001b[39;00m gca()\u001b[38;5;241m.\u001b[39mhist(\n\u001b[0;32m   2646\u001b[0m         x, bins\u001b[38;5;241m=\u001b[39mbins, \u001b[38;5;28mrange\u001b[39m\u001b[38;5;241m=\u001b[39m\u001b[38;5;28mrange\u001b[39m, density\u001b[38;5;241m=\u001b[39mdensity, weights\u001b[38;5;241m=\u001b[39mweights,\n\u001b[0;32m   2647\u001b[0m         cumulative\u001b[38;5;241m=\u001b[39mcumulative, bottom\u001b[38;5;241m=\u001b[39mbottom, histtype\u001b[38;5;241m=\u001b[39mhisttype,\n\u001b[0;32m   2648\u001b[0m         align\u001b[38;5;241m=\u001b[39malign, orientation\u001b[38;5;241m=\u001b[39morientation, rwidth\u001b[38;5;241m=\u001b[39mrwidth, log\u001b[38;5;241m=\u001b[39mlog,\n\u001b[0;32m   2649\u001b[0m         color\u001b[38;5;241m=\u001b[39mcolor, label\u001b[38;5;241m=\u001b[39mlabel, stacked\u001b[38;5;241m=\u001b[39mstacked,\n\u001b[0;32m   2650\u001b[0m         \u001b[38;5;241m*\u001b[39m\u001b[38;5;241m*\u001b[39m({\u001b[38;5;124m\"\u001b[39m\u001b[38;5;124mdata\u001b[39m\u001b[38;5;124m\"\u001b[39m: data} \u001b[38;5;28;01mif\u001b[39;00m data \u001b[38;5;129;01mis\u001b[39;00m \u001b[38;5;129;01mnot\u001b[39;00m \u001b[38;5;28;01mNone\u001b[39;00m \u001b[38;5;28;01melse\u001b[39;00m {}), \u001b[38;5;241m*\u001b[39m\u001b[38;5;241m*\u001b[39mkwargs)\n",
      "File \u001b[1;32m~\\anaconda3\\Lib\\site-packages\\matplotlib\\__init__.py:1442\u001b[0m, in \u001b[0;36m_preprocess_data.<locals>.inner\u001b[1;34m(ax, data, *args, **kwargs)\u001b[0m\n\u001b[0;32m   1439\u001b[0m \u001b[38;5;129m@functools\u001b[39m\u001b[38;5;241m.\u001b[39mwraps(func)\n\u001b[0;32m   1440\u001b[0m \u001b[38;5;28;01mdef\u001b[39;00m \u001b[38;5;21minner\u001b[39m(ax, \u001b[38;5;241m*\u001b[39margs, data\u001b[38;5;241m=\u001b[39m\u001b[38;5;28;01mNone\u001b[39;00m, \u001b[38;5;241m*\u001b[39m\u001b[38;5;241m*\u001b[39mkwargs):\n\u001b[0;32m   1441\u001b[0m     \u001b[38;5;28;01mif\u001b[39;00m data \u001b[38;5;129;01mis\u001b[39;00m \u001b[38;5;28;01mNone\u001b[39;00m:\n\u001b[1;32m-> 1442\u001b[0m         \u001b[38;5;28;01mreturn\u001b[39;00m func(ax, \u001b[38;5;241m*\u001b[39m\u001b[38;5;28mmap\u001b[39m(sanitize_sequence, args), \u001b[38;5;241m*\u001b[39m\u001b[38;5;241m*\u001b[39mkwargs)\n\u001b[0;32m   1444\u001b[0m     bound \u001b[38;5;241m=\u001b[39m new_sig\u001b[38;5;241m.\u001b[39mbind(ax, \u001b[38;5;241m*\u001b[39margs, \u001b[38;5;241m*\u001b[39m\u001b[38;5;241m*\u001b[39mkwargs)\n\u001b[0;32m   1445\u001b[0m     auto_label \u001b[38;5;241m=\u001b[39m (bound\u001b[38;5;241m.\u001b[39marguments\u001b[38;5;241m.\u001b[39mget(label_namer)\n\u001b[0;32m   1446\u001b[0m                   \u001b[38;5;129;01mor\u001b[39;00m bound\u001b[38;5;241m.\u001b[39mkwargs\u001b[38;5;241m.\u001b[39mget(label_namer))\n",
      "File \u001b[1;32m~\\anaconda3\\Lib\\site-packages\\matplotlib\\axes\\_axes.py:6711\u001b[0m, in \u001b[0;36mAxes.hist\u001b[1;34m(self, x, bins, range, density, weights, cumulative, bottom, histtype, align, orientation, rwidth, log, color, label, stacked, **kwargs)\u001b[0m\n\u001b[0;32m   6709\u001b[0m \u001b[38;5;28;01mif\u001b[39;00m orientation \u001b[38;5;241m==\u001b[39m \u001b[38;5;124m\"\u001b[39m\u001b[38;5;124mvertical\u001b[39m\u001b[38;5;124m\"\u001b[39m:\n\u001b[0;32m   6710\u001b[0m     convert_units \u001b[38;5;241m=\u001b[39m \u001b[38;5;28mself\u001b[39m\u001b[38;5;241m.\u001b[39mconvert_xunits\n\u001b[1;32m-> 6711\u001b[0m     x \u001b[38;5;241m=\u001b[39m [\u001b[38;5;241m*\u001b[39m\u001b[38;5;28mself\u001b[39m\u001b[38;5;241m.\u001b[39m_process_unit_info([(\u001b[38;5;124m\"\u001b[39m\u001b[38;5;124mx\u001b[39m\u001b[38;5;124m\"\u001b[39m, x[\u001b[38;5;241m0\u001b[39m])], kwargs),\n\u001b[0;32m   6712\u001b[0m          \u001b[38;5;241m*\u001b[39m\u001b[38;5;28mmap\u001b[39m(convert_units, x[\u001b[38;5;241m1\u001b[39m:])]\n\u001b[0;32m   6713\u001b[0m \u001b[38;5;28;01melse\u001b[39;00m:  \u001b[38;5;66;03m# horizontal\u001b[39;00m\n\u001b[0;32m   6714\u001b[0m     convert_units \u001b[38;5;241m=\u001b[39m \u001b[38;5;28mself\u001b[39m\u001b[38;5;241m.\u001b[39mconvert_yunits\n",
      "File \u001b[1;32m~\\anaconda3\\Lib\\site-packages\\matplotlib\\axes\\_base.py:2549\u001b[0m, in \u001b[0;36m_AxesBase._process_unit_info\u001b[1;34m(self, datasets, kwargs, convert)\u001b[0m\n\u001b[0;32m   2547\u001b[0m     \u001b[38;5;66;03m# Update from data if axis is already set but no unit is set yet.\u001b[39;00m\n\u001b[0;32m   2548\u001b[0m     \u001b[38;5;28;01mif\u001b[39;00m axis \u001b[38;5;129;01mis\u001b[39;00m \u001b[38;5;129;01mnot\u001b[39;00m \u001b[38;5;28;01mNone\u001b[39;00m \u001b[38;5;129;01mand\u001b[39;00m data \u001b[38;5;129;01mis\u001b[39;00m \u001b[38;5;129;01mnot\u001b[39;00m \u001b[38;5;28;01mNone\u001b[39;00m \u001b[38;5;129;01mand\u001b[39;00m \u001b[38;5;129;01mnot\u001b[39;00m axis\u001b[38;5;241m.\u001b[39mhave_units():\n\u001b[1;32m-> 2549\u001b[0m         axis\u001b[38;5;241m.\u001b[39mupdate_units(data)\n\u001b[0;32m   2550\u001b[0m \u001b[38;5;28;01mfor\u001b[39;00m axis_name, axis \u001b[38;5;129;01min\u001b[39;00m axis_map\u001b[38;5;241m.\u001b[39mitems():\n\u001b[0;32m   2551\u001b[0m     \u001b[38;5;66;03m# Return if no axis is set.\u001b[39;00m\n\u001b[0;32m   2552\u001b[0m     \u001b[38;5;28;01mif\u001b[39;00m axis \u001b[38;5;129;01mis\u001b[39;00m \u001b[38;5;28;01mNone\u001b[39;00m:\n",
      "File \u001b[1;32m~\\anaconda3\\Lib\\site-packages\\matplotlib\\axis.py:1675\u001b[0m, in \u001b[0;36mAxis.update_units\u001b[1;34m(self, data)\u001b[0m\n\u001b[0;32m   1673\u001b[0m neednew \u001b[38;5;241m=\u001b[39m \u001b[38;5;28mself\u001b[39m\u001b[38;5;241m.\u001b[39mconverter \u001b[38;5;241m!=\u001b[39m converter\n\u001b[0;32m   1674\u001b[0m \u001b[38;5;28mself\u001b[39m\u001b[38;5;241m.\u001b[39mconverter \u001b[38;5;241m=\u001b[39m converter\n\u001b[1;32m-> 1675\u001b[0m default \u001b[38;5;241m=\u001b[39m \u001b[38;5;28mself\u001b[39m\u001b[38;5;241m.\u001b[39mconverter\u001b[38;5;241m.\u001b[39mdefault_units(data, \u001b[38;5;28mself\u001b[39m)\n\u001b[0;32m   1676\u001b[0m \u001b[38;5;28;01mif\u001b[39;00m default \u001b[38;5;129;01mis\u001b[39;00m \u001b[38;5;129;01mnot\u001b[39;00m \u001b[38;5;28;01mNone\u001b[39;00m \u001b[38;5;129;01mand\u001b[39;00m \u001b[38;5;28mself\u001b[39m\u001b[38;5;241m.\u001b[39munits \u001b[38;5;129;01mis\u001b[39;00m \u001b[38;5;28;01mNone\u001b[39;00m:\n\u001b[0;32m   1677\u001b[0m     \u001b[38;5;28mself\u001b[39m\u001b[38;5;241m.\u001b[39mset_units(default)\n",
      "File \u001b[1;32m~\\anaconda3\\Lib\\site-packages\\matplotlib\\category.py:105\u001b[0m, in \u001b[0;36mStrCategoryConverter.default_units\u001b[1;34m(data, axis)\u001b[0m\n\u001b[0;32m    103\u001b[0m \u001b[38;5;66;03m# the conversion call stack is default_units -> axis_info -> convert\u001b[39;00m\n\u001b[0;32m    104\u001b[0m \u001b[38;5;28;01mif\u001b[39;00m axis\u001b[38;5;241m.\u001b[39munits \u001b[38;5;129;01mis\u001b[39;00m \u001b[38;5;28;01mNone\u001b[39;00m:\n\u001b[1;32m--> 105\u001b[0m     axis\u001b[38;5;241m.\u001b[39mset_units(UnitData(data))\n\u001b[0;32m    106\u001b[0m \u001b[38;5;28;01melse\u001b[39;00m:\n\u001b[0;32m    107\u001b[0m     axis\u001b[38;5;241m.\u001b[39munits\u001b[38;5;241m.\u001b[39mupdate(data)\n",
      "File \u001b[1;32m~\\anaconda3\\Lib\\site-packages\\matplotlib\\category.py:181\u001b[0m, in \u001b[0;36mUnitData.__init__\u001b[1;34m(self, data)\u001b[0m\n\u001b[0;32m    179\u001b[0m \u001b[38;5;28mself\u001b[39m\u001b[38;5;241m.\u001b[39m_counter \u001b[38;5;241m=\u001b[39m itertools\u001b[38;5;241m.\u001b[39mcount()\n\u001b[0;32m    180\u001b[0m \u001b[38;5;28;01mif\u001b[39;00m data \u001b[38;5;129;01mis\u001b[39;00m \u001b[38;5;129;01mnot\u001b[39;00m \u001b[38;5;28;01mNone\u001b[39;00m:\n\u001b[1;32m--> 181\u001b[0m     \u001b[38;5;28mself\u001b[39m\u001b[38;5;241m.\u001b[39mupdate(data)\n",
      "File \u001b[1;32m~\\anaconda3\\Lib\\site-packages\\matplotlib\\category.py:216\u001b[0m, in \u001b[0;36mUnitData.update\u001b[1;34m(self, data)\u001b[0m\n\u001b[0;32m    213\u001b[0m convertible \u001b[38;5;241m=\u001b[39m \u001b[38;5;28;01mTrue\u001b[39;00m\n\u001b[0;32m    214\u001b[0m \u001b[38;5;28;01mfor\u001b[39;00m val \u001b[38;5;129;01min\u001b[39;00m OrderedDict\u001b[38;5;241m.\u001b[39mfromkeys(data):\n\u001b[0;32m    215\u001b[0m     \u001b[38;5;66;03m# OrderedDict just iterates over unique values in data.\u001b[39;00m\n\u001b[1;32m--> 216\u001b[0m     _api\u001b[38;5;241m.\u001b[39mcheck_isinstance((\u001b[38;5;28mstr\u001b[39m, \u001b[38;5;28mbytes\u001b[39m), value\u001b[38;5;241m=\u001b[39mval)\n\u001b[0;32m    217\u001b[0m     \u001b[38;5;28;01mif\u001b[39;00m convertible:\n\u001b[0;32m    218\u001b[0m         \u001b[38;5;66;03m# this will only be called so long as convertible is True.\u001b[39;00m\n\u001b[0;32m    219\u001b[0m         convertible \u001b[38;5;241m=\u001b[39m \u001b[38;5;28mself\u001b[39m\u001b[38;5;241m.\u001b[39m_str_is_convertible(val)\n",
      "File \u001b[1;32m~\\anaconda3\\Lib\\site-packages\\matplotlib\\_api\\__init__.py:93\u001b[0m, in \u001b[0;36mcheck_isinstance\u001b[1;34m(_types, **kwargs)\u001b[0m\n\u001b[0;32m     91\u001b[0m     names\u001b[38;5;241m.\u001b[39mremove(\u001b[38;5;124m\"\u001b[39m\u001b[38;5;124mNone\u001b[39m\u001b[38;5;124m\"\u001b[39m)\n\u001b[0;32m     92\u001b[0m     names\u001b[38;5;241m.\u001b[39mappend(\u001b[38;5;124m\"\u001b[39m\u001b[38;5;124mNone\u001b[39m\u001b[38;5;124m\"\u001b[39m)\n\u001b[1;32m---> 93\u001b[0m \u001b[38;5;28;01mraise\u001b[39;00m \u001b[38;5;167;01mTypeError\u001b[39;00m(\n\u001b[0;32m     94\u001b[0m     \u001b[38;5;124m\"\u001b[39m\u001b[38;5;132;01m{!r}\u001b[39;00m\u001b[38;5;124m must be an instance of \u001b[39m\u001b[38;5;132;01m{}\u001b[39;00m\u001b[38;5;124m, not a \u001b[39m\u001b[38;5;132;01m{}\u001b[39;00m\u001b[38;5;124m\"\u001b[39m\u001b[38;5;241m.\u001b[39mformat(\n\u001b[0;32m     95\u001b[0m         k,\n\u001b[0;32m     96\u001b[0m         \u001b[38;5;124m\"\u001b[39m\u001b[38;5;124m, \u001b[39m\u001b[38;5;124m\"\u001b[39m\u001b[38;5;241m.\u001b[39mjoin(names[:\u001b[38;5;241m-\u001b[39m\u001b[38;5;241m1\u001b[39m]) \u001b[38;5;241m+\u001b[39m \u001b[38;5;124m\"\u001b[39m\u001b[38;5;124m or \u001b[39m\u001b[38;5;124m\"\u001b[39m \u001b[38;5;241m+\u001b[39m names[\u001b[38;5;241m-\u001b[39m\u001b[38;5;241m1\u001b[39m]\n\u001b[0;32m     97\u001b[0m         \u001b[38;5;28;01mif\u001b[39;00m \u001b[38;5;28mlen\u001b[39m(names) \u001b[38;5;241m>\u001b[39m \u001b[38;5;241m1\u001b[39m \u001b[38;5;28;01melse\u001b[39;00m names[\u001b[38;5;241m0\u001b[39m],\n\u001b[0;32m     98\u001b[0m         type_name(\u001b[38;5;28mtype\u001b[39m(v))))\n",
      "\u001b[1;31mTypeError\u001b[0m: 'value' must be an instance of str or bytes, not a float"
     ]
    },
    {
     "data": {
      "image/png": "[encoded data removed]",
      "text/plain": [
       "<Figure size 640x480 with 1 Axes>"
      ]
     },
     "metadata": {},
     "output_type": "display_data"
    }
   ],
   "source": [
    "\n",
    "# Extract month and year from Date3\n",
    "nsefilesv6['month'] = nsefilesv6['Date3'].dt.strftime('%m')\n",
    "nsefilesv6['year'] = nsefilesv6['Date3'].dt.strftime('%Y')\n",
    "nsefilesv6['monthyear'] = nsefilesv6['year'] + '-' + nsefilesv6['month']\n",
    "\n",
    "# Plotting using matplotlib\n",
    "plt.hist(nsefilesv6['Previous'], bins=20, edgecolor='black')\n",
    "plt.xlabel('Previous')\n",
    "plt.ylabel('Frequency')\n",
    "plt.title('Histogram of Previous')\n",
    "plt.show()\n",
    "\n",
    "# Plotting using seaborn (for scatter plot and regression line)\n",
    "sns.lmplot(x='monthyear', y='Previous', data=nsefilesv6, scatter_kws={'alpha':0.5})\n",
    "plt.xticks(rotation=45)\n",
    "plt.show()"
   ]
  },
  {
   "cell_type": "code",
   "execution_count": null,
   "id": "aa5de353",
   "metadata": {},
   "outputs": [],
   "source": []
  }
 ],
 "metadata": {
  "kernelspec": {
   "display_name": "Python 3 (ipykernel)",
   "language": "python",
   "name": "python3"
  },
  "language_info": {
   "codemirror_mode": {
    "name": "ipython",
    "version": 3
   },
   "file_extension": ".py",
   "mimetype": "text/x-python",
   "name": "python",
   "nbconvert_exporter": "python",
   "pygments_lexer": "ipython3",
   "version": "3.11.3"
  }
 },
 "nbformat": 4,
 "nbformat_minor": 5
}
